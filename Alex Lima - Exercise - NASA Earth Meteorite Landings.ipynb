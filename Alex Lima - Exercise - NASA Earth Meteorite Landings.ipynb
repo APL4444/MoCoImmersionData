{
 "cells": [
  {
   "cell_type": "code",
   "execution_count": 1,
   "metadata": {},
   "outputs": [],
   "source": [
    "import requests  #similar to urllib, this library allows a computer to ping a website\n",
    "import json      #library to handle JSON formatted data"
   ]
  },
  {
   "cell_type": "code",
   "execution_count": 2,
   "metadata": {},
   "outputs": [],
   "source": [
    "#URL to NASA API\n",
    "url = r\"https://data.nasa.gov/resource/gh4g-9sfh.json\""
   ]
  },
  {
   "cell_type": "code",
   "execution_count": 3,
   "metadata": {},
   "outputs": [
    {
     "data": {
      "text/plain": [
       "<Response [200]>"
      ]
     },
     "execution_count": 3,
     "metadata": {},
     "output_type": "execute_result"
    }
   ],
   "source": [
    "resp = requests.get(url)\n",
    "resp"
   ]
  },
  {
   "cell_type": "code",
   "execution_count": 4,
   "metadata": {},
   "outputs": [],
   "source": [
    "#send a request to the website to return back text data from the API\n",
    "#returns data as JSON string\n",
    "str_data = resp.text\n",
    "#str_data"
   ]
  },
  {
   "cell_type": "code",
   "execution_count": 5,
   "metadata": {},
   "outputs": [],
   "source": [
    "#loads function reversed dictionary order\n",
    "#dictionary objects are unordered in general\n",
    "NASAdata = json.loads(str_data)\n",
    "#NASAdata"
   ]
  },
  {
   "cell_type": "code",
   "execution_count": 6,
   "metadata": {},
   "outputs": [
    {
     "data": {
      "text/plain": [
       "{'name': 'Aachen',\n",
       " 'id': '1',\n",
       " 'nametype': 'Valid',\n",
       " 'recclass': 'L5',\n",
       " 'mass': '21',\n",
       " 'fall': 'Fell',\n",
       " 'year': '1880-01-01T00:00:00.000',\n",
       " 'reclat': '50.775000',\n",
       " 'reclong': '6.083330',\n",
       " 'geolocation': {'latitude': '50.775', 'longitude': '6.08333'}}"
      ]
     },
     "execution_count": 6,
     "metadata": {},
     "output_type": "execute_result"
    }
   ],
   "source": [
    "NASAdata[0]"
   ]
  },
  {
   "cell_type": "code",
   "execution_count": 7,
   "metadata": {},
   "outputs": [],
   "source": [
    "#set empty lists to hold each feature's information\n",
    "#ID Year Fall Name Name Type Mass Latitude Longitude\n",
    "\n",
    "ID = []\n",
    "Year = []\n",
    "Fall = []\n",
    "Name = []\n",
    "Name_Type = []\n",
    "Mass = []\n",
    "Latitude = []\n",
    "Longitude = []\n"
   ]
  },
  {
   "cell_type": "code",
   "execution_count": 8,
   "metadata": {},
   "outputs": [],
   "source": [
    "Meteorites = NASAdata"
   ]
  },
  {
   "cell_type": "code",
   "execution_count": 10,
   "metadata": {},
   "outputs": [],
   "source": [
    "for Meteorite in Meteorites:\n",
    "\n",
    "    try: mass_mt = Meteorite['mass']\n",
    "    except: mass_mt = None\n",
    "        \n",
    "    try: year_mt = Meteorite['year']\n",
    "    except: year_mt = None\n",
    "        \n",
    "    try: rec_lat = Meteorite['reclat']\n",
    "    except: rec_lat = None\n",
    "        \n",
    "    try: rec_long = Meteorite['reclong']\n",
    "    except: rec_long = None\n",
    "        \n",
    "        \n",
    "        \n",
    "    ID.append(Meteorite['id'])\n",
    "    Year.append(year_mt)\n",
    "    Fall.append(Meteorite['fall'])\n",
    "    Name.append(Meteorite['name'])\n",
    "    Name_Type.append(Meteorite['nametype'])    \n",
    "    Mass.append(mass_mt)\n",
    "    Latitude.append(rec_lat)\n",
    "    Longitude.append(rec_long)"
   ]
  },
  {
   "cell_type": "code",
   "execution_count": 11,
   "metadata": {},
   "outputs": [
    {
     "name": "stdout",
     "output_type": "stream",
     "text": [
      "1001\n",
      "1000\n",
      "1000\n",
      "1000\n",
      "1000\n",
      "1000\n",
      "1000\n",
      "1000\n"
     ]
    }
   ],
   "source": [
    "print(len(ID))\n",
    "print(len(Year))\n",
    "print(len(Fall))\n",
    "print(len(Name))\n",
    "print(len(Name_Type))\n",
    "print(len(Mass))\n",
    "print(len(Latitude))\n",
    "print(len(Longitude))"
   ]
  },
  {
   "cell_type": "code",
   "execution_count": 12,
   "metadata": {},
   "outputs": [],
   "source": [
    "#match indices of each list and zip into one list\n",
    "Mtr_List = list(zip(ID, Year, Fall, Name, Name_Type, Mass, Latitude, Longitude))\n",
    "\n",
    "#names for columns in data frame\n",
    "colnames = ['ID', 'Year', 'Fall', 'Name', 'Name Type', 'Mass', \n",
    "            'Latitude', 'Longitude']"
   ]
  },
  {
   "cell_type": "code",
   "execution_count": 13,
   "metadata": {},
   "outputs": [],
   "source": [
    "import pandas as pd"
   ]
  },
  {
   "cell_type": "code",
   "execution_count": 14,
   "metadata": {},
   "outputs": [
    {
     "data": {
      "text/html": [
       "<div>\n",
       "<style scoped>\n",
       "    .dataframe tbody tr th:only-of-type {\n",
       "        vertical-align: middle;\n",
       "    }\n",
       "\n",
       "    .dataframe tbody tr th {\n",
       "        vertical-align: top;\n",
       "    }\n",
       "\n",
       "    .dataframe thead th {\n",
       "        text-align: right;\n",
       "    }\n",
       "</style>\n",
       "<table border=\"1\" class=\"dataframe\">\n",
       "  <thead>\n",
       "    <tr style=\"text-align: right;\">\n",
       "      <th></th>\n",
       "      <th>ID</th>\n",
       "      <th>Year</th>\n",
       "      <th>Fall</th>\n",
       "      <th>Name</th>\n",
       "      <th>Name Type</th>\n",
       "      <th>Mass</th>\n",
       "      <th>Latitude</th>\n",
       "      <th>Longitude</th>\n",
       "    </tr>\n",
       "  </thead>\n",
       "  <tbody>\n",
       "    <tr>\n",
       "      <th>0</th>\n",
       "      <td>1</td>\n",
       "      <td>1880-01-01T00:00:00.000</td>\n",
       "      <td>Fell</td>\n",
       "      <td>Aachen</td>\n",
       "      <td>Valid</td>\n",
       "      <td>21</td>\n",
       "      <td>50.775000</td>\n",
       "      <td>6.083330</td>\n",
       "    </tr>\n",
       "    <tr>\n",
       "      <th>1</th>\n",
       "      <td>1</td>\n",
       "      <td>1951-01-01T00:00:00.000</td>\n",
       "      <td>Fell</td>\n",
       "      <td>Aarhus</td>\n",
       "      <td>Valid</td>\n",
       "      <td>720</td>\n",
       "      <td>56.183330</td>\n",
       "      <td>10.233330</td>\n",
       "    </tr>\n",
       "    <tr>\n",
       "      <th>2</th>\n",
       "      <td>2</td>\n",
       "      <td>1952-01-01T00:00:00.000</td>\n",
       "      <td>Fell</td>\n",
       "      <td>Abee</td>\n",
       "      <td>Valid</td>\n",
       "      <td>107000</td>\n",
       "      <td>54.216670</td>\n",
       "      <td>-113.000000</td>\n",
       "    </tr>\n",
       "    <tr>\n",
       "      <th>3</th>\n",
       "      <td>6</td>\n",
       "      <td>1976-01-01T00:00:00.000</td>\n",
       "      <td>Fell</td>\n",
       "      <td>Acapulco</td>\n",
       "      <td>Valid</td>\n",
       "      <td>1914</td>\n",
       "      <td>16.883330</td>\n",
       "      <td>-99.900000</td>\n",
       "    </tr>\n",
       "    <tr>\n",
       "      <th>4</th>\n",
       "      <td>10</td>\n",
       "      <td>1902-01-01T00:00:00.000</td>\n",
       "      <td>Fell</td>\n",
       "      <td>Achiras</td>\n",
       "      <td>Valid</td>\n",
       "      <td>780</td>\n",
       "      <td>-33.166670</td>\n",
       "      <td>-64.950000</td>\n",
       "    </tr>\n",
       "    <tr>\n",
       "      <th>5</th>\n",
       "      <td>370</td>\n",
       "      <td>1919-01-01T00:00:00.000</td>\n",
       "      <td>Fell</td>\n",
       "      <td>Adhi Kot</td>\n",
       "      <td>Valid</td>\n",
       "      <td>4239</td>\n",
       "      <td>32.100000</td>\n",
       "      <td>71.800000</td>\n",
       "    </tr>\n",
       "    <tr>\n",
       "      <th>6</th>\n",
       "      <td>379</td>\n",
       "      <td>1949-01-01T00:00:00.000</td>\n",
       "      <td>Fell</td>\n",
       "      <td>Adzhi-Bogdo (stone)</td>\n",
       "      <td>Valid</td>\n",
       "      <td>910</td>\n",
       "      <td>44.833330</td>\n",
       "      <td>95.166670</td>\n",
       "    </tr>\n",
       "    <tr>\n",
       "      <th>7</th>\n",
       "      <td>390</td>\n",
       "      <td>1814-01-01T00:00:00.000</td>\n",
       "      <td>Fell</td>\n",
       "      <td>Agen</td>\n",
       "      <td>Valid</td>\n",
       "      <td>30000</td>\n",
       "      <td>44.216670</td>\n",
       "      <td>0.616670</td>\n",
       "    </tr>\n",
       "    <tr>\n",
       "      <th>8</th>\n",
       "      <td>392</td>\n",
       "      <td>1930-01-01T00:00:00.000</td>\n",
       "      <td>Fell</td>\n",
       "      <td>Aguada</td>\n",
       "      <td>Valid</td>\n",
       "      <td>1620</td>\n",
       "      <td>-31.600000</td>\n",
       "      <td>-65.233330</td>\n",
       "    </tr>\n",
       "    <tr>\n",
       "      <th>9</th>\n",
       "      <td>398</td>\n",
       "      <td>1920-01-01T00:00:00.000</td>\n",
       "      <td>Fell</td>\n",
       "      <td>Aguila Blanca</td>\n",
       "      <td>Valid</td>\n",
       "      <td>1440</td>\n",
       "      <td>-30.866670</td>\n",
       "      <td>-64.550000</td>\n",
       "    </tr>\n",
       "  </tbody>\n",
       "</table>\n",
       "</div>"
      ],
      "text/plain": [
       "    ID                     Year  Fall                 Name Name Type    Mass  \\\n",
       "0    1  1880-01-01T00:00:00.000  Fell               Aachen     Valid      21   \n",
       "1    1  1951-01-01T00:00:00.000  Fell               Aarhus     Valid     720   \n",
       "2    2  1952-01-01T00:00:00.000  Fell                 Abee     Valid  107000   \n",
       "3    6  1976-01-01T00:00:00.000  Fell             Acapulco     Valid    1914   \n",
       "4   10  1902-01-01T00:00:00.000  Fell              Achiras     Valid     780   \n",
       "5  370  1919-01-01T00:00:00.000  Fell             Adhi Kot     Valid    4239   \n",
       "6  379  1949-01-01T00:00:00.000  Fell  Adzhi-Bogdo (stone)     Valid     910   \n",
       "7  390  1814-01-01T00:00:00.000  Fell                 Agen     Valid   30000   \n",
       "8  392  1930-01-01T00:00:00.000  Fell               Aguada     Valid    1620   \n",
       "9  398  1920-01-01T00:00:00.000  Fell        Aguila Blanca     Valid    1440   \n",
       "\n",
       "     Latitude    Longitude  \n",
       "0   50.775000     6.083330  \n",
       "1   56.183330    10.233330  \n",
       "2   54.216670  -113.000000  \n",
       "3   16.883330   -99.900000  \n",
       "4  -33.166670   -64.950000  \n",
       "5   32.100000    71.800000  \n",
       "6   44.833330    95.166670  \n",
       "7   44.216670     0.616670  \n",
       "8  -31.600000   -65.233330  \n",
       "9  -30.866670   -64.550000  "
      ]
     },
     "execution_count": 14,
     "metadata": {},
     "output_type": "execute_result"
    }
   ],
   "source": [
    "Meteors_List = pd.DataFrame(Mtr_List, columns=colnames)\n",
    "\n",
    "Meteors_List.head(10)"
   ]
  },
  {
   "cell_type": "code",
   "execution_count": null,
   "metadata": {},
   "outputs": [],
   "source": []
  }
 ],
 "metadata": {
  "kernelspec": {
   "display_name": "Python 3",
   "language": "python",
   "name": "python3"
  },
  "language_info": {
   "codemirror_mode": {
    "name": "ipython",
    "version": 3
   },
   "file_extension": ".py",
   "mimetype": "text/x-python",
   "name": "python",
   "nbconvert_exporter": "python",
   "pygments_lexer": "ipython3",
   "version": "3.7.3"
  }
 },
 "nbformat": 4,
 "nbformat_minor": 2
}
