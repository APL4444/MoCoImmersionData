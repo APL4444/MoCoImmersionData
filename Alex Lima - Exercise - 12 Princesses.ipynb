{
 "cells": [
  {
   "cell_type": "code",
   "execution_count": 1,
   "metadata": {},
   "outputs": [],
   "source": [
    "import pandas as pd"
   ]
  },
  {
   "cell_type": "code",
   "execution_count": 3,
   "metadata": {},
   "outputs": [],
   "source": [
    "import nltk\n",
    "from nltk.tokenize import word_tokenize\n",
    "from nltk.tokenize import sent_tokenize\n",
    "from nltk.tokenize import TweetTokenizer\n",
    "from nltk.probability import FreqDist\n",
    "from nltk.corpus import stopwords\n",
    "from nltk.stem import WordNetLemmatizer\n",
    "from nltk.sentiment.vader import SentimentIntensityAnalyzer\n",
    "\n",
    "#this is sample data\n",
    "from nltk.corpus import names  \n",
    "\n",
    "from string import punctuation\n",
    "\n",
    "import matplotlib.pyplot as plt\n",
    "%matplotlib inline"
   ]
  },
  {
   "cell_type": "code",
   "execution_count": 4,
   "metadata": {},
   "outputs": [
    {
     "name": "stdout",
     "output_type": "stream",
     "text": [
      "['THE', 'TWELVE', 'DANCING', 'PRINCESSES', 'THE', 'TWELVE', 'DANCING', 'PRINCESSES', 'There', 'was']\n"
     ]
    }
   ],
   "source": [
    "prncsss_tokens = []\n",
    "\n",
    "with open('12dancingprincesses.txt', 'r') as prncsss:\n",
    "  \n",
    "    for line in prncsss:\n",
    "        cline = line.strip() #get rid of newline character\n",
    "\n",
    "        if cline == '': pass  #this will skip over lines that only had a newline and are now blank\n",
    "        else:\n",
    "            tknls = word_tokenize(cline)\n",
    "        \n",
    "        for token in tknls:\n",
    "           prncsss_tokens.append(token)\n",
    "       \n",
    "       \n",
    "        #[write the function to append each token to the empty list you created at the start of this code]\n",
    "        \n",
    "print(prncsss_tokens[:10])"
   ]
  },
  {
   "cell_type": "code",
   "execution_count": 5,
   "metadata": {},
   "outputs": [],
   "source": [
    "for token in prncsss_tokens:\n",
    "        if token in punctuation:\n",
    "            prncsss_tokens.remove(token)"
   ]
  },
  {
   "cell_type": "code",
   "execution_count": 6,
   "metadata": {},
   "outputs": [],
   "source": [
    "eng_stopwords = stopwords.words('english')\n",
    "eng_stopwords\n",
    "\n",
    "for token in prncsss_tokens:\n",
    "    if token in eng_stopwords:\n",
    "            prncsss_tokens.remove(token)\n",
    "            \n",
    "#for token in prncsss_tokens:\n",
    "#    if token == \"'\":\n",
    "#        prncsss.remove(token)\n",
    "    "
   ]
  },
  {
   "cell_type": "code",
   "execution_count": 7,
   "metadata": {},
   "outputs": [
    {
     "data": {
      "text/plain": [
       "[('the', 80),\n",
       " ('’', 31),\n",
       " ('‘', 22),\n",
       " ('soldier', 19),\n",
       " ('I', 18),\n",
       " ('princesses', 17),\n",
       " ('said', 16),\n",
       " ('king', 15),\n",
       " ('was', 15),\n",
       " ('all', 15)]"
      ]
     },
     "execution_count": 7,
     "metadata": {},
     "output_type": "execute_result"
    }
   ],
   "source": [
    "fd_prncsss_tokens = FreqDist(prncsss_tokens)\n",
    "fd_prncsss_tokens.most_common(10)"
   ]
  },
  {
   "cell_type": "code",
   "execution_count": null,
   "metadata": {},
   "outputs": [],
   "source": []
  }
 ],
 "metadata": {
  "kernelspec": {
   "display_name": "Python 3",
   "language": "python",
   "name": "python3"
  },
  "language_info": {
   "codemirror_mode": {
    "name": "ipython",
    "version": 3
   },
   "file_extension": ".py",
   "mimetype": "text/x-python",
   "name": "python",
   "nbconvert_exporter": "python",
   "pygments_lexer": "ipython3",
   "version": "3.7.3"
  }
 },
 "nbformat": 4,
 "nbformat_minor": 2
}
