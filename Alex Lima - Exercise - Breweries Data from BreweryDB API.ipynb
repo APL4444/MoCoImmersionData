{
 "cells": [
  {
   "cell_type": "code",
   "execution_count": 1,
   "metadata": {},
   "outputs": [],
   "source": [
    "import requests\n",
    "import json\n",
    "import pandas as pd"
   ]
  },
  {
   "cell_type": "code",
   "execution_count": 2,
   "metadata": {},
   "outputs": [
    {
     "name": "stdout",
     "output_type": "stream",
     "text": [
      "240fb0825682def685cfe59dfb68e6ad\n"
     ]
    }
   ],
   "source": [
    "#create a text file that contains your API key\n",
    "#you DO NOT want others to see your API key\n",
    "#this method is not the most secure but will work for this exercise\n",
    "\n",
    "#this will read the file and store your API key as a variable\n",
    "with open('brewDB_key.txt', 'r') as file:\n",
    "    for line in file:\n",
    "        api_key = line\n",
    "print(api_key)"
   ]
  },
  {
   "cell_type": "code",
   "execution_count": 3,
   "metadata": {},
   "outputs": [
    {
     "data": {
      "text/plain": [
       "str"
      ]
     },
     "execution_count": 3,
     "metadata": {},
     "output_type": "execute_result"
    }
   ],
   "source": [
    "type(api_key)"
   ]
  },
  {
   "cell_type": "code",
   "execution_count": 4,
   "metadata": {},
   "outputs": [],
   "source": [
    "#sandbox database to practice getting data from their API #The unpaid access.\n",
    "url = r\"https://sandbox-api.brewerydb.com/v2/breweries/?key=\""
   ]
  },
  {
   "cell_type": "code",
   "execution_count": 5,
   "metadata": {},
   "outputs": [],
   "source": [
    "#in the request to the website, give it the url and add the API key at the end\n",
    "response = requests.get(url+api_key)"
   ]
  },
  {
   "cell_type": "code",
   "execution_count": 6,
   "metadata": {},
   "outputs": [
    {
     "data": {
      "text/plain": [
       "<Response [200]>"
      ]
     },
     "execution_count": 6,
     "metadata": {},
     "output_type": "execute_result"
    }
   ],
   "source": [
    "#status code is 200, so this is good\n",
    "response"
   ]
  },
  {
   "cell_type": "code",
   "execution_count": 7,
   "metadata": {},
   "outputs": [],
   "source": [
    "#response.text"
   ]
  },
  {
   "cell_type": "code",
   "execution_count": 8,
   "metadata": {},
   "outputs": [],
   "source": [
    "brwr_data = response.json()"
   ]
  },
  {
   "cell_type": "code",
   "execution_count": 9,
   "metadata": {},
   "outputs": [],
   "source": [
    "#brwr_data"
   ]
  },
  {
   "cell_type": "code",
   "execution_count": 10,
   "metadata": {},
   "outputs": [
    {
     "data": {
      "text/plain": [
       "dict"
      ]
     },
     "execution_count": 10,
     "metadata": {},
     "output_type": "execute_result"
    }
   ],
   "source": [
    "type(brwr_data)"
   ]
  },
  {
   "cell_type": "code",
   "execution_count": 11,
   "metadata": {},
   "outputs": [
    {
     "data": {
      "text/plain": [
       "dict_keys(['currentPage', 'numberOfPages', 'totalResults', 'data', 'status'])"
      ]
     },
     "execution_count": 11,
     "metadata": {},
     "output_type": "execute_result"
    }
   ],
   "source": [
    "brwr_data.keys()"
   ]
  },
  {
   "cell_type": "code",
   "execution_count": 12,
   "metadata": {},
   "outputs": [],
   "source": [
    "#brwr_data['data']"
   ]
  },
  {
   "cell_type": "code",
   "execution_count": 13,
   "metadata": {},
   "outputs": [],
   "source": [
    "#set list of breweries to variable\n",
    "breweries = brwr_data['data']"
   ]
  },
  {
   "cell_type": "code",
   "execution_count": 14,
   "metadata": {},
   "outputs": [
    {
     "data": {
      "text/plain": [
       "list"
      ]
     },
     "execution_count": 14,
     "metadata": {},
     "output_type": "execute_result"
    }
   ],
   "source": [
    "#the value for the data key contains a list\n",
    "type(brwr_data['data'])"
   ]
  },
  {
   "cell_type": "code",
   "execution_count": 15,
   "metadata": {},
   "outputs": [
    {
     "data": {
      "text/plain": [
       "{'id': 'BznahA',\n",
       " 'name': 'Anheuser-Busch InBev',\n",
       " 'nameShortDisplay': 'Anheuser-Busch InBev',\n",
       " 'description': \"Anheuser-Busch operates 12 breweries in the United States, 14 in China and one in the United Kingdom. Anheuser-Busch's operations and resources are focused on adding to life's enjoyment not only through the responsible consumption of beer by adults, but through theme park entertainment and packaging.  In the United States, the company holds a 48.5 percent share of U.S. beer sales. Worldwide, Anheuser-Busch's beer sales volume was 128.4 million barrels in 2007.  The St. Louis-based company's subsidiaries include one of the largest U.S. manufacturers of aluminum beverage containers and one of the world's largest recyclers of aluminum beverage cans. Anheuser-Busch also has interests in malt production, rice milling, real estate development, turf farming, metalized and paper label printing, bottle production and transportation services.\",\n",
       " 'website': 'http://www.anheuser-busch.com/',\n",
       " 'established': '1852',\n",
       " 'isOrganic': 'N',\n",
       " 'images': {'icon': 'https://brewerydb-images.s3.amazonaws.com/brewery/BznahA/upload_0FkKKl-icon.png',\n",
       "  'medium': 'https://brewerydb-images.s3.amazonaws.com/brewery/BznahA/upload_0FkKKl-medium.png',\n",
       "  'large': 'https://brewerydb-images.s3.amazonaws.com/brewery/BznahA/upload_0FkKKl-large.png',\n",
       "  'squareMedium': 'https://brewerydb-images.s3.amazonaws.com/brewery/BznahA/upload_0FkKKl-squareMedium.png',\n",
       "  'squareLarge': 'https://brewerydb-images.s3.amazonaws.com/brewery/BznahA/upload_0FkKKl-squareLarge.png'},\n",
       " 'status': 'verified',\n",
       " 'statusDisplay': 'Verified',\n",
       " 'createDate': '2012-01-03 02:41:44',\n",
       " 'updateDate': '2018-11-02 02:15:01',\n",
       " 'isMassOwned': 'Y',\n",
       " 'isInBusiness': 'Y',\n",
       " 'isVerified': 'N'}"
      ]
     },
     "execution_count": 15,
     "metadata": {},
     "output_type": "execute_result"
    }
   ],
   "source": [
    "brwr_data['data'][0]"
   ]
  },
  {
   "cell_type": "code",
   "execution_count": 16,
   "metadata": {},
   "outputs": [
    {
     "data": {
      "text/plain": [
       "dict_keys(['id', 'name', 'nameShortDisplay', 'description', 'website', 'established', 'isOrganic', 'images', 'status', 'statusDisplay', 'createDate', 'updateDate', 'isMassOwned', 'isInBusiness', 'isVerified'])"
      ]
     },
     "execution_count": 16,
     "metadata": {},
     "output_type": "execute_result"
    }
   ],
   "source": [
    "brwr_data['data'][0].keys()"
   ]
  },
  {
   "cell_type": "code",
   "execution_count": 17,
   "metadata": {},
   "outputs": [],
   "source": [
    "#create empty lists to extract data\n",
    "\n",
    "ID_ls = [] #ID of the brewery\n",
    "Name_ls = [] #name of the brewery\n",
    "Year_ls = [] #year of foundation of the brewery\n",
    "Status_ls = [] #status: verified or not\n",
    "Bsnss_ls = [] #In business or not\n",
    "Mss_ownd_ls = [] #Mass owned?\n",
    "Orgnc_ls = [] #Organic?\n",
    "Website_ls = [] #Website\n",
    "Dscrpt_ls = [] #Description"
   ]
  },
  {
   "cell_type": "code",
   "execution_count": 18,
   "metadata": {},
   "outputs": [],
   "source": [
    "for brewery in breweries:\n",
    "        \n",
    "    #get the value of each key and if the key doesn't exist, set a variable to be None\n",
    "    try: ID_brwr = brewery['id']\n",
    "    except: ID_brwr = None\n",
    "            \n",
    "    try: Name_brwr = brewery['name']\n",
    "    except: Name_brwr = None\n",
    "            \n",
    "    try: Year_brwr = brewery['established']\n",
    "    except: Year_brwr = None\n",
    "            \n",
    "    try: Status_brwr = brewery['status']\n",
    "    except: Status_brwr = None\n",
    "    \n",
    "    try: Bsnss_brwr = brewery['isInBusiness']\n",
    "    except: Bsnss_brwr = None\n",
    "            \n",
    "    try: MssOwnd_brwr = brewery['isMassOwned']\n",
    "    except: MssOwnd_brwr = None\n",
    "            \n",
    "    try: Orgnc_brwr = brewery['isOrganic']\n",
    "    except: Orgnc_brwr = None\n",
    "        \n",
    "    try: Website_brwr = brewery['website']\n",
    "    except: Website_brwr = None\n",
    "            \n",
    "    try: Dscrpt_brwr = brewery['description']\n",
    "    except: Dscrpt_brwr = None\n",
    "            \n",
    "    \n",
    "            \n",
    "        \n",
    "    ID_ls.append(ID_brwr)\n",
    "    Name_ls.append(Name_brwr)\n",
    "    Year_ls.append(Year_brwr)\n",
    "    Status_ls.append(Status_brwr)\n",
    "    Bsnss_ls.append(Bsnss_brwr)\n",
    "    Mss_ownd_ls.append(MssOwnd_brwr)\n",
    "    Orgnc_ls.append(Orgnc_brwr)\n",
    "    Website_ls.append(Website_brwr)\n",
    "    Dscrpt_ls.append(Dscrpt_brwr)\n",
    "  "
   ]
  },
  {
   "cell_type": "code",
   "execution_count": 19,
   "metadata": {},
   "outputs": [
    {
     "name": "stdout",
     "output_type": "stream",
     "text": [
      "['BznahA', 'rd8LRZ', 'IImUD9', 'uM2jeT', 'p3YrOa']\n",
      "['Anheuser-Busch InBev', 'Boston Beer Company (Samuel Adams)', 'Breckenridge Brewery', 'Brouwerij De Leite', 'Dock Street Brewery']\n",
      "['1852', None, '1990', '2008', '1985']\n",
      "['verified', 'new_unverified', 'verified', 'verified', 'verified']\n",
      "['Y', 'Y', 'Y', 'Y', 'Y']\n"
     ]
    }
   ],
   "source": [
    "print(ID_ls[:5])\n",
    "print(Name_ls[:5])\n",
    "print(Year_ls[:5])\n",
    "print(Status_ls[:5])\n",
    "print(Bsnss_ls[:5])"
   ]
  },
  {
   "cell_type": "code",
   "execution_count": 20,
   "metadata": {},
   "outputs": [],
   "source": [
    "#match indices of each list and zip into one list\n",
    "brwr_list = list(zip(ID_ls, Name_ls, Year_ls, \n",
    "                    Status_ls, Bsnss_ls, Mss_ownd_ls, Orgnc_ls, \n",
    "                    Website_ls, Dscrpt_ls))\n",
    "\n",
    "#names for columns in data frame\n",
    "colnames = ['ID', 'Name', 'Year of Establishment', 'Status', 'is it in business?', 'Is it mass owned?', 'Is it organic', \n",
    "            'Website', 'Description']"
   ]
  },
  {
   "cell_type": "code",
   "execution_count": 21,
   "metadata": {
    "scrolled": true
   },
   "outputs": [
    {
     "data": {
      "text/html": [
       "<div>\n",
       "<style scoped>\n",
       "    .dataframe tbody tr th:only-of-type {\n",
       "        vertical-align: middle;\n",
       "    }\n",
       "\n",
       "    .dataframe tbody tr th {\n",
       "        vertical-align: top;\n",
       "    }\n",
       "\n",
       "    .dataframe thead th {\n",
       "        text-align: right;\n",
       "    }\n",
       "</style>\n",
       "<table border=\"1\" class=\"dataframe\">\n",
       "  <thead>\n",
       "    <tr style=\"text-align: right;\">\n",
       "      <th></th>\n",
       "      <th>ID</th>\n",
       "      <th>Name</th>\n",
       "      <th>Year of Establishment</th>\n",
       "      <th>Status</th>\n",
       "      <th>is it in business?</th>\n",
       "      <th>Is it mass owned?</th>\n",
       "      <th>Is it organic</th>\n",
       "      <th>Website</th>\n",
       "      <th>Description</th>\n",
       "    </tr>\n",
       "  </thead>\n",
       "  <tbody>\n",
       "    <tr>\n",
       "      <th>0</th>\n",
       "      <td>BznahA</td>\n",
       "      <td>Anheuser-Busch InBev</td>\n",
       "      <td>1852</td>\n",
       "      <td>verified</td>\n",
       "      <td>Y</td>\n",
       "      <td>Y</td>\n",
       "      <td>N</td>\n",
       "      <td>http://www.anheuser-busch.com/</td>\n",
       "      <td>Anheuser-Busch operates 12 breweries in the Un...</td>\n",
       "    </tr>\n",
       "    <tr>\n",
       "      <th>1</th>\n",
       "      <td>rd8LRZ</td>\n",
       "      <td>Boston Beer Company (Samuel Adams)</td>\n",
       "      <td>None</td>\n",
       "      <td>new_unverified</td>\n",
       "      <td>Y</td>\n",
       "      <td>N</td>\n",
       "      <td>N</td>\n",
       "      <td>None</td>\n",
       "      <td>None</td>\n",
       "    </tr>\n",
       "    <tr>\n",
       "      <th>2</th>\n",
       "      <td>IImUD9</td>\n",
       "      <td>Breckenridge Brewery</td>\n",
       "      <td>1990</td>\n",
       "      <td>verified</td>\n",
       "      <td>Y</td>\n",
       "      <td>Y</td>\n",
       "      <td>N</td>\n",
       "      <td>http://www.breckbrew.com/</td>\n",
       "      <td>Breckenridge Brewery was founded in 1990 in Br...</td>\n",
       "    </tr>\n",
       "    <tr>\n",
       "      <th>3</th>\n",
       "      <td>uM2jeT</td>\n",
       "      <td>Brouwerij De Leite</td>\n",
       "      <td>2008</td>\n",
       "      <td>verified</td>\n",
       "      <td>Y</td>\n",
       "      <td>N</td>\n",
       "      <td>N</td>\n",
       "      <td>http://www.deleite.be/</td>\n",
       "      <td>Brewing since 1997.  Officially transformed in...</td>\n",
       "    </tr>\n",
       "    <tr>\n",
       "      <th>4</th>\n",
       "      <td>p3YrOa</td>\n",
       "      <td>Dock Street Brewery</td>\n",
       "      <td>1985</td>\n",
       "      <td>verified</td>\n",
       "      <td>Y</td>\n",
       "      <td>N</td>\n",
       "      <td>N</td>\n",
       "      <td>http://www.dockstreetbeer.com</td>\n",
       "      <td>Founded in 1985, Dock Street Brewing Co. was t...</td>\n",
       "    </tr>\n",
       "    <tr>\n",
       "      <th>5</th>\n",
       "      <td>HaPdSL</td>\n",
       "      <td>Guinness</td>\n",
       "      <td>1759</td>\n",
       "      <td>verified</td>\n",
       "      <td>Y</td>\n",
       "      <td>Y</td>\n",
       "      <td>N</td>\n",
       "      <td>http://www.guinness.com/</td>\n",
       "      <td>St. James's Gate Brewery (Irish: Grúdlann Ghea...</td>\n",
       "    </tr>\n",
       "    <tr>\n",
       "      <th>6</th>\n",
       "      <td>DMU2Kf</td>\n",
       "      <td>Harmon Brewing Company</td>\n",
       "      <td>None</td>\n",
       "      <td>verified</td>\n",
       "      <td>Y</td>\n",
       "      <td>N</td>\n",
       "      <td>N</td>\n",
       "      <td>http://harmonbrewingco.com/</td>\n",
       "      <td>This 15 barrel microbrewery and restaurant is ...</td>\n",
       "    </tr>\n",
       "    <tr>\n",
       "      <th>7</th>\n",
       "      <td>p1tFbP</td>\n",
       "      <td>Jackalope Brewing Company</td>\n",
       "      <td>2011</td>\n",
       "      <td>verified</td>\n",
       "      <td>Y</td>\n",
       "      <td>N</td>\n",
       "      <td>N</td>\n",
       "      <td>http://www.jackalopebrew.com/</td>\n",
       "      <td>Jackalope Brewing Company is owned by Bailey S...</td>\n",
       "    </tr>\n",
       "    <tr>\n",
       "      <th>8</th>\n",
       "      <td>nLsoQ9</td>\n",
       "      <td>Lagunitas Brewing Company</td>\n",
       "      <td>1993</td>\n",
       "      <td>verified</td>\n",
       "      <td>Y</td>\n",
       "      <td>Y</td>\n",
       "      <td>N</td>\n",
       "      <td>http://www.lagunitas.com/</td>\n",
       "      <td>From our earliest days of striving to make con...</td>\n",
       "    </tr>\n",
       "    <tr>\n",
       "      <th>9</th>\n",
       "      <td>941OaA</td>\n",
       "      <td>Last Name Brewing</td>\n",
       "      <td>2003</td>\n",
       "      <td>verified</td>\n",
       "      <td>Y</td>\n",
       "      <td>N</td>\n",
       "      <td>N</td>\n",
       "      <td>http://www.lastnamebrewing.com/</td>\n",
       "      <td>Last Name Brewing is a craft brewery and tap r...</td>\n",
       "    </tr>\n",
       "  </tbody>\n",
       "</table>\n",
       "</div>"
      ],
      "text/plain": [
       "       ID                                Name Year of Establishment  \\\n",
       "0  BznahA                Anheuser-Busch InBev                  1852   \n",
       "1  rd8LRZ  Boston Beer Company (Samuel Adams)                  None   \n",
       "2  IImUD9                Breckenridge Brewery                  1990   \n",
       "3  uM2jeT                  Brouwerij De Leite                  2008   \n",
       "4  p3YrOa                 Dock Street Brewery                  1985   \n",
       "5  HaPdSL                            Guinness                  1759   \n",
       "6  DMU2Kf              Harmon Brewing Company                  None   \n",
       "7  p1tFbP           Jackalope Brewing Company                  2011   \n",
       "8  nLsoQ9           Lagunitas Brewing Company                  1993   \n",
       "9  941OaA                   Last Name Brewing                  2003   \n",
       "\n",
       "           Status is it in business? Is it mass owned? Is it organic  \\\n",
       "0        verified                  Y                 Y             N   \n",
       "1  new_unverified                  Y                 N             N   \n",
       "2        verified                  Y                 Y             N   \n",
       "3        verified                  Y                 N             N   \n",
       "4        verified                  Y                 N             N   \n",
       "5        verified                  Y                 Y             N   \n",
       "6        verified                  Y                 N             N   \n",
       "7        verified                  Y                 N             N   \n",
       "8        verified                  Y                 Y             N   \n",
       "9        verified                  Y                 N             N   \n",
       "\n",
       "                           Website  \\\n",
       "0   http://www.anheuser-busch.com/   \n",
       "1                             None   \n",
       "2        http://www.breckbrew.com/   \n",
       "3           http://www.deleite.be/   \n",
       "4    http://www.dockstreetbeer.com   \n",
       "5         http://www.guinness.com/   \n",
       "6      http://harmonbrewingco.com/   \n",
       "7    http://www.jackalopebrew.com/   \n",
       "8        http://www.lagunitas.com/   \n",
       "9  http://www.lastnamebrewing.com/   \n",
       "\n",
       "                                         Description  \n",
       "0  Anheuser-Busch operates 12 breweries in the Un...  \n",
       "1                                               None  \n",
       "2  Breckenridge Brewery was founded in 1990 in Br...  \n",
       "3  Brewing since 1997.  Officially transformed in...  \n",
       "4  Founded in 1985, Dock Street Brewing Co. was t...  \n",
       "5  St. James's Gate Brewery (Irish: Grúdlann Ghea...  \n",
       "6  This 15 barrel microbrewery and restaurant is ...  \n",
       "7  Jackalope Brewing Company is owned by Bailey S...  \n",
       "8  From our earliest days of striving to make con...  \n",
       "9  Last Name Brewing is a craft brewery and tap r...  "
      ]
     },
     "execution_count": 21,
     "metadata": {},
     "output_type": "execute_result"
    }
   ],
   "source": [
    "Brewery_Catalog = pd.DataFrame(brwr_list, columns=colnames)\n",
    "\n",
    "Brewery_Catalog.head(10)"
   ]
  },
  {
   "cell_type": "code",
   "execution_count": null,
   "metadata": {},
   "outputs": [],
   "source": []
  }
 ],
 "metadata": {
  "kernelspec": {
   "display_name": "Python 3",
   "language": "python",
   "name": "python3"
  },
  "language_info": {
   "codemirror_mode": {
    "name": "ipython",
    "version": 3
   },
   "file_extension": ".py",
   "mimetype": "text/x-python",
   "name": "python",
   "nbconvert_exporter": "python",
   "pygments_lexer": "ipython3",
   "version": "3.7.3"
  }
 },
 "nbformat": 4,
 "nbformat_minor": 2
}
